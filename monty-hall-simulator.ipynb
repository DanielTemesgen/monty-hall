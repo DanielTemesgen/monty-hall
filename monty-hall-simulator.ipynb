{
 "cells": [
  {
   "cell_type": "code",
   "execution_count": 31,
   "metadata": {},
   "outputs": [],
   "source": [
    "import numpy as np\n",
    "\n",
    "def monty_hall(strategy = 'Switch', iterations=10000, no_doors =3):\n",
    "    \"\"\"\n",
    "    Monty Hall Simulator.\n",
    "    3 Doors by default.\n",
    "    You can choose the number of iterations, strategy and the number of doors in the function arguments.\n",
    "    \"\"\"\n",
    "    total = [] #instantiate empty list\n",
    "    for x in range(iterations): #for loop to simulate the problem\n",
    "        doors = np.full((no_doors), False, dtype=bool) #initialise doors with goats behind all doors\n",
    "        car = np.random.randint(len(doors)) #pick random door\n",
    "        doors[car] = True #place the car behind the door, car status = True\n",
    "        positions = np.arange(len(doors)) #initialise the positions the user can choose\n",
    "        user_choice = np.random.randint(len(doors)) #the contestant picks a door\n",
    "        positions = np.delete(positions, user_choice) #this door is removed from possible positions - via indexing\n",
    "        #below is a list of the doors which the presenter can show\n",
    "        #the door must not have the car behind it, therefore doors[x] must be False in the list comprehension below\n",
    "        doors_to_show = [x for x in positions if doors[x] == False]\n",
    "        doors_shown = np.random.choice(doors_to_show, 1) #select one door to show at random\n",
    "        positions = [x for x in positions if x != doors_shown] #this door is removed from possible positions\n",
    "        #the contestant ca choose either: the door they chose originally (user_choice) or the remaining door (positions)\n",
    "        doors_to_choose_from = np.append(user_choice, positions)\n",
    "        if strategy == 'Switch':\n",
    "            #Switch\n",
    "            #the [0] effectively converts the data structure from list to a single integer\n",
    "            final_choice = [x for x in doors_to_choose_from if x != user_choice][0]\n",
    "        if strategy == 'Stick':\n",
    "            #Stick\n",
    "            final_choice = user_choice #no change from the original choice\n",
    "\n",
    "        #Evaluation: sets up a binary flag. 0 = failure, 1 = success.\n",
    "        if final_choice == car:\n",
    "            total.append(1)\n",
    "        else:\n",
    "            total.append(0)\n",
    "    #this f-string prints the final result as well as some supplementary information\n",
    "    return print(f\"{sum(total)} win of a possible {iterations}, you chose {strategy} and had {no_doors} doors to choose from.\")"
   ]
  },
  {
   "cell_type": "code",
   "execution_count": 32,
   "metadata": {},
   "outputs": [
    {
     "name": "stdout",
     "output_type": "stream",
     "text": [
      "6664 win of a possible 10000, you chose Switch and had 3 doors to choose from.\n",
      "2009 win of a possible 10000, you chose Stick and had 5 doors to choose from.\n"
     ]
    }
   ],
   "source": [
    "monty_hall()\n",
    "monty_hall(strategy='Stick', no_doors=5)"
   ]
  },
  {
   "cell_type": "code",
   "execution_count": 33,
   "metadata": {},
   "outputs": [
    {
     "name": "stdout",
     "output_type": "stream",
     "text": [
      "Help on function monty_hall in module __main__:\n",
      "\n",
      "monty_hall(strategy='Switch', iterations=10000, no_doors=3)\n",
      "    Monty Hall Simulator.\n",
      "    3 Doors by default.\n",
      "    You can choose the number of iterations, strategy and the number of doors in the function arguments.\n",
      "\n"
     ]
    }
   ],
   "source": [
    "help(monty_hall)"
   ]
  }
 ],
 "metadata": {
  "kernelspec": {
   "display_name": "Python [default]",
   "language": "python",
   "name": "python3"
  },
  "language_info": {
   "codemirror_mode": {
    "name": "ipython",
    "version": 3
   },
   "file_extension": ".py",
   "mimetype": "text/x-python",
   "name": "python",
   "nbconvert_exporter": "python",
   "pygments_lexer": "ipython3",
   "version": "3.6.6"
  }
 },
 "nbformat": 4,
 "nbformat_minor": 2
}
